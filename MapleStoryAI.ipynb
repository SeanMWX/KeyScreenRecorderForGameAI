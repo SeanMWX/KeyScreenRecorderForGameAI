{
 "cells": [
  {
   "cell_type": "code",
   "execution_count": 21,
   "id": "82962923",
   "metadata": {},
   "outputs": [],
   "source": [
    "from pynput.keyboard import Key, Controller,Listener\n",
    "from pynput import keyboard\n",
    "import pyautogui, time, cv2, fnmatch, os\n",
    "import numpy as np"
   ]
  },
  {
   "cell_type": "code",
   "execution_count": 41,
   "id": "d74b3b02",
   "metadata": {},
   "outputs": [],
   "source": [
    "def imagesave(name):\n",
    "    image = pyautogui.screenshot()\n",
    "    image = cv2.cvtColor(np.array(image),\n",
    "                         cv2.COLOR_RGB2BGR)\n",
    "    if not os.path.exists(name):\n",
    "        os.makedirs(name)\n",
    "        cv2.imwrite(name+\"/0.png\", image)\n",
    "    else:\n",
    "        num = len(fnmatch.filter(os.listdir(name), '*.png'))\n",
    "        cv2.imwrite(name+\"/%d.png\" % (num), image)"
   ]
  },
  {
   "cell_type": "code",
   "execution_count": 40,
   "id": "3305ba05",
   "metadata": {},
   "outputs": [
    {
     "name": "stdout",
     "output_type": "stream",
     "text": [
      "Key.left\n",
      "Key.right+Key.left\n",
      "Key.left\n",
      "Key.right+Key.left\n",
      "Key.left\n",
      "Key.esc\n"
     ]
    }
   ],
   "source": [
    "keyboard_exec = Controller()\n",
    "holding_keys = []\n",
    "\n",
    "def on_press(key):\n",
    "    # stop when pressing \"stop\"\n",
    "    if key == keyboard.Key.esc:\n",
    "        listener.stop()\n",
    "    # key string\n",
    "    string = str(key).replace(\"'\",\"\")\n",
    "    # do not duplicate holding_keys\n",
    "    if string in holding_keys:\n",
    "        return\n",
    "    # pressing + holding keys\n",
    "    if len(holding_keys) == 0:\n",
    "        string = string\n",
    "    elif len(holding_keys) > 0:\n",
    "        string = string\n",
    "        for i in range(len(holding_keys)):\n",
    "            string = string + '+%s' % (holding_keys[i])\n",
    "    # save current image\n",
    "    imagesave('data/'+string)\n",
    "    # add pressing key to array\n",
    "    holding_keys.append(str(key).replace(\"'\",\"\"))\n",
    "    with open('keys.txt', 'a') as f:\n",
    "        f.writelines(string + \"\\n\")\n",
    "        f.flush()\n",
    "    print(string)\n",
    "    \n",
    "def on_release(key):\n",
    "    string = str(key).replace(\"'\",\"\")\n",
    "    holding_keys.remove(string)\n",
    "    string = string+'.release'\n",
    "            \n",
    "with Listener(on_press=on_press,on_release=on_release) as listener:\n",
    "    listener.join()"
   ]
  },
  {
   "cell_type": "markdown",
   "id": "80099b25",
   "metadata": {},
   "source": [
    "# import os\n",
    "directory_path = os.getcwd()\n",
    "print(\"My current directory is : \" + directory_path)\n",
    "folder_name = os.path.basename(directory_path)\n",
    "print(\"My directory name is : \" + folder_name)"
   ]
  },
  {
   "cell_type": "code",
   "execution_count": 8,
   "id": "be61b5fa",
   "metadata": {},
   "outputs": [
    {
     "name": "stdout",
     "output_type": "stream",
     "text": [
      "My current directory is : C:\\Users\\xinha\\Documents\n",
      "My directory name is : Documents\n"
     ]
    }
   ],
   "source": [
    "import os\n",
    "directory_path = os.getcwd()\n",
    "print(\"My current directory is : \" + directory_path)\n",
    "folder_name = os.path.basename(directory_path)\n",
    "print(\"My directory name is : \" + folder_name)"
   ]
  }
 ],
 "metadata": {
  "kernelspec": {
   "display_name": "Python 3 (ipykernel)",
   "language": "python",
   "name": "python3"
  },
  "language_info": {
   "codemirror_mode": {
    "name": "ipython",
    "version": 3
   },
   "file_extension": ".py",
   "mimetype": "text/x-python",
   "name": "python",
   "nbconvert_exporter": "python",
   "pygments_lexer": "ipython3",
   "version": "3.8.12"
  }
 },
 "nbformat": 4,
 "nbformat_minor": 5
}
